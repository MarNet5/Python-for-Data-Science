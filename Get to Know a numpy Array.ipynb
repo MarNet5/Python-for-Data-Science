{
    "nbformat_minor": 4, 
    "cells": [
        {
            "source": "<h3> Get to Know a numpy Array </h3>", 
            "cell_type": "markdown", 
            "metadata": {}
        }, 
        {
            "source": "You will use the dataframe <code>df</code> for the following:", 
            "cell_type": "markdown", 
            "metadata": {}
        }, 
        {
            "execution_count": 1, 
            "cell_type": "code", 
            "metadata": {}, 
            "outputs": [], 
            "source": "import pandas as pd\n\ndf=pd.DataFrame({'a':[11,21,31],'b':[21,22,23]})\n"
        }, 
        {
            "source": "1) plot the first three rows:", 
            "cell_type": "markdown", 
            "metadata": {}
        }, 
        {
            "execution_count": 2, 
            "cell_type": "code", 
            "metadata": {}, 
            "outputs": [
                {
                    "execution_count": 2, 
                    "metadata": {}, 
                    "data": {
                        "text/html": "<div>\n<style scoped>\n    .dataframe tbody tr th:only-of-type {\n        vertical-align: middle;\n    }\n\n    .dataframe tbody tr th {\n        vertical-align: top;\n    }\n\n    .dataframe thead th {\n        text-align: right;\n    }\n</style>\n<table border=\"1\" class=\"dataframe\">\n  <thead>\n    <tr style=\"text-align: right;\">\n      <th></th>\n      <th>a</th>\n      <th>b</th>\n    </tr>\n  </thead>\n  <tbody>\n    <tr>\n      <td>0</td>\n      <td>11</td>\n      <td>21</td>\n    </tr>\n    <tr>\n      <td>1</td>\n      <td>21</td>\n      <td>22</td>\n    </tr>\n    <tr>\n      <td>2</td>\n      <td>31</td>\n      <td>23</td>\n    </tr>\n  </tbody>\n</table>\n</div>", 
                        "text/plain": "    a   b\n0  11  21\n1  21  22\n2  31  23"
                    }, 
                    "output_type": "execute_result"
                }
            ], 
            "source": "df.head(3)"
        }, 
        {
            "source": "2) obtain column  <code> 'a' </code>", 
            "cell_type": "markdown", 
            "metadata": {}
        }, 
        {
            "execution_count": 3, 
            "cell_type": "code", 
            "metadata": {
                "jupyter": {
                    "outputs_hidden": false
                }
            }, 
            "outputs": [
                {
                    "execution_count": 3, 
                    "metadata": {}, 
                    "data": {
                        "text/plain": "0    11\n1    21\n2    31\nName: a, dtype: int64"
                    }, 
                    "output_type": "execute_result"
                }
            ], 
            "source": "df['a']"
        }, 
        {
            "source": "<hr>\n<small>Copyright &copy; 2018 IBM Cognitive Class. This notebook and its source code are released under the terms of the [MIT License](https://cognitiveclass.ai/mit-license/).</small>", 
            "cell_type": "markdown", 
            "metadata": {}
        }
    ], 
    "metadata": {
        "kernelspec": {
            "display_name": "Python 3.6", 
            "name": "python3", 
            "language": "python"
        }, 
        "language_info": {
            "mimetype": "text/x-python", 
            "nbconvert_exporter": "python", 
            "version": "3.6.8", 
            "name": "python", 
            "file_extension": ".py", 
            "pygments_lexer": "ipython3", 
            "codemirror_mode": {
                "version": 3, 
                "name": "ipython"
            }
        }
    }, 
    "nbformat": 4
}