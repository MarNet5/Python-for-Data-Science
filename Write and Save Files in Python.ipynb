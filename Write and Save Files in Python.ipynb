{
    "nbformat_minor": 4, 
    "cells": [
        {
            "source": "<div class=\"alert alert-block alert-info\" style=\"margin-top: 20px\">\n    <a href=\"https://cocl.us/PY0101EN_edx_add_top\">\n         <img src=\"https://s3-api.us-geo.objectstorage.softlayer.net/cf-courses-data/CognitiveClass/PY0101EN/Ad/TopAd.png\" width=\"750\" align=\"center\">\n    </a>\n</div>", 
            "cell_type": "markdown", 
            "metadata": {}
        }, 
        {
            "source": "<a href=\"https://cognitiveclass.ai/\">\n    <img src=\"https://s3-api.us-geo.objectstorage.softlayer.net/cf-courses-data/CognitiveClass/PY0101EN/Ad/CCLog.png\" width=\"200\" align=\"center\">\n</a>", 
            "cell_type": "markdown", 
            "metadata": {}
        }, 
        {
            "source": "<h1>Write and Save Files in Python</h1>", 
            "cell_type": "markdown", 
            "metadata": {}
        }, 
        {
            "source": "<p><strong>Welcome!</strong> This notebook will teach you about write the text to file in the Python Programming Language. By the end of this lab, you'll know how to write to file and copy the file.</p>", 
            "cell_type": "markdown", 
            "metadata": {}
        }, 
        {
            "source": "<h2>Table of Contents</h2>\n<div class=\"alert alert-block alert-info\" style=\"margin-top: 20px\">\n    <ul>\n        <li><a href=\"write\">Writing Files</a></li>\n        <li><a href=\"copy\">Copy a File</a></li>\n    </ul>\n    <p>\n        Estimated time needed: <strong>15 min</strong>\n    </p>\n</div>\n\n<hr>", 
            "cell_type": "markdown", 
            "metadata": {}
        }, 
        {
            "source": "<h2 id=\"write\">Writing Files</h2>", 
            "cell_type": "markdown", 
            "metadata": {}
        }, 
        {
            "source": " We can open a file object using the method <code>write()</code> to save the text file to a list. To write the mode, argument must be set to write <b>w</b>. Let\u2019s write a file <b>Example2.txt</b> with the line: <b>\u201cThis is line A\u201d</b>", 
            "cell_type": "markdown", 
            "metadata": {}
        }, 
        {
            "execution_count": 1, 
            "cell_type": "code", 
            "metadata": {}, 
            "outputs": [], 
            "source": "# Write line to file\n\nwith open('/resources/data/Example2.txt', 'w') as writefile:\n    writefile.write(\"This is line A\")"
        }, 
        {
            "source": " We can read the file to see if it worked:", 
            "cell_type": "markdown", 
            "metadata": {}
        }, 
        {
            "execution_count": 2, 
            "cell_type": "code", 
            "metadata": {
                "jupyter": {
                    "outputs_hidden": false
                }
            }, 
            "outputs": [
                {
                    "output_type": "stream", 
                    "name": "stdout", 
                    "text": "This is line A\n"
                }
            ], 
            "source": "# Read file\n\nwith open('/resources/data/Example2.txt', 'r') as testwritefile:\n    print(testwritefile.read())"
        }, 
        {
            "source": "We can write multiple lines:", 
            "cell_type": "markdown", 
            "metadata": {}
        }, 
        {
            "execution_count": 4, 
            "cell_type": "code", 
            "metadata": {}, 
            "outputs": [], 
            "source": "# Write lines to file\n\nwith open('/resources/data/Example2.txt', 'w') as writefile:\n    writefile.write(\"This is line A\\n\")\n    writefile.write(\"This is line B\\n\")"
        }, 
        {
            "source": "The method <code>.write()</code> works similar to the method <code>.readline()</code>, except instead of reading a new line it writes a new line. The process is illustrated in the figure , the different colour coding of the grid represents a new line added to the file after each method call.", 
            "cell_type": "markdown", 
            "metadata": {}
        }, 
        {
            "source": "<img src=\"https://s3-api.us-geo.objectstorage.softlayer.net/cf-courses-data/CognitiveClass/PY0101EN/Chapter%204/Images/WriteLine.png\" width=\"500\" />", 
            "cell_type": "markdown", 
            "metadata": {}
        }, 
        {
            "source": "You can check the file to see if your results are correct ", 
            "cell_type": "markdown", 
            "metadata": {}
        }, 
        {
            "execution_count": 5, 
            "cell_type": "code", 
            "metadata": {
                "jupyter": {
                    "outputs_hidden": false
                }
            }, 
            "outputs": [
                {
                    "output_type": "stream", 
                    "name": "stdout", 
                    "text": "This is line A\nThis is line B\n\n"
                }
            ], 
            "source": "# Check whether write to file\n\nwith open('/resources/data/Example2.txt', 'r') as testwritefile:\n    print(testwritefile.read())"
        }, 
        {
            "source": " By setting the mode argument to append **a**  you can append a new line as follows:", 
            "cell_type": "markdown", 
            "metadata": {}
        }, 
        {
            "execution_count": 6, 
            "cell_type": "code", 
            "metadata": {
                "jupyter": {
                    "outputs_hidden": false
                }
            }, 
            "outputs": [], 
            "source": "# Write a new line to text file\n\nwith open('/resources/data/Example2.txt', 'a') as testwritefile:\n    testwritefile.write(\"This is line C\\n\")"
        }, 
        {
            "source": " You can verify the file has changed by running the following cell:", 
            "cell_type": "markdown", 
            "metadata": {}
        }, 
        {
            "execution_count": 7, 
            "cell_type": "code", 
            "metadata": {
                "jupyter": {
                    "outputs_hidden": false
                }
            }, 
            "outputs": [
                {
                    "output_type": "stream", 
                    "name": "stdout", 
                    "text": "This is line A\nThis is line B\nThis is line C\n\n"
                }
            ], 
            "source": "# Verify if the new line is in the text file\n\nwith open('/resources/data/Example2.txt', 'r') as testwritefile:\n    print(testwritefile.read())"
        }, 
        {
            "source": " We write a list to a <b>.txt</b> file  as follows:", 
            "cell_type": "markdown", 
            "metadata": {}
        }, 
        {
            "execution_count": 8, 
            "cell_type": "code", 
            "metadata": {
                "jupyter": {
                    "outputs_hidden": false
                }
            }, 
            "outputs": [
                {
                    "execution_count": 8, 
                    "metadata": {}, 
                    "data": {
                        "text/plain": "['This is line A\\n', 'This is line B\\n', 'This is line C\\n']"
                    }, 
                    "output_type": "execute_result"
                }
            ], 
            "source": "# Sample list of text\n\nLines = [\"This is line A\\n\", \"This is line B\\n\", \"This is line C\\n\"]\nLines"
        }, 
        {
            "execution_count": 9, 
            "cell_type": "code", 
            "metadata": {
                "jupyter": {
                    "outputs_hidden": false
                }
            }, 
            "outputs": [
                {
                    "output_type": "stream", 
                    "name": "stdout", 
                    "text": "This is line A\n\nThis is line B\n\nThis is line C\n\n"
                }
            ], 
            "source": "# Write the strings in the list to text file\n\nwith open('Example2.txt', 'w') as writefile:\n    for line in Lines:\n        print(line)\n        writefile.write(line)"
        }, 
        {
            "source": " We can verify the file is written by reading it and printing out the values:  ", 
            "cell_type": "markdown", 
            "metadata": {}
        }, 
        {
            "execution_count": 10, 
            "cell_type": "code", 
            "metadata": {
                "jupyter": {
                    "outputs_hidden": false
                }
            }, 
            "outputs": [
                {
                    "output_type": "stream", 
                    "name": "stdout", 
                    "text": "This is line A\nThis is line B\nThis is line C\n\n"
                }
            ], 
            "source": "# Verify if writing to file is successfully executed\n\nwith open('Example2.txt', 'r') as testwritefile:\n    print(testwritefile.read())"
        }, 
        {
            "source": "We can again append to the file by changing the second parameter to <b>a</b>. This adds the code:", 
            "cell_type": "markdown", 
            "metadata": {}
        }, 
        {
            "execution_count": 11, 
            "cell_type": "code", 
            "metadata": {
                "jupyter": {
                    "outputs_hidden": false
                }
            }, 
            "outputs": [], 
            "source": "# Append the line to the file\n\nwith open('Example2.txt', 'a') as testwritefile:\n    testwritefile.write(\"This is line D\\n\")"
        }, 
        {
            "source": "We can see the results of appending the file: ", 
            "cell_type": "markdown", 
            "metadata": {}
        }, 
        {
            "execution_count": 12, 
            "cell_type": "code", 
            "metadata": {
                "jupyter": {
                    "outputs_hidden": false
                }
            }, 
            "outputs": [
                {
                    "output_type": "stream", 
                    "name": "stdout", 
                    "text": "This is line A\nThis is line B\nThis is line C\nThis is line D\n\n"
                }
            ], 
            "source": "# Verify if the appending is successfully executed\n\nwith open('Example2.txt', 'r') as testwritefile:\n    print(testwritefile.read())"
        }, 
        {
            "source": "<hr>", 
            "cell_type": "markdown", 
            "metadata": {}
        }, 
        {
            "source": "<h2 id=\"copy\">Copy a File</h2> ", 
            "cell_type": "markdown", 
            "metadata": {}
        }, 
        {
            "source": "Let's copy the file <b>Example2.txt</b> to the file <b>Example3.txt</b>:", 
            "cell_type": "markdown", 
            "metadata": {}
        }, 
        {
            "execution_count": 13, 
            "cell_type": "code", 
            "metadata": {
                "jupyter": {
                    "outputs_hidden": false
                }
            }, 
            "outputs": [], 
            "source": "# Copy file to another\n\nwith open('Example2.txt','r') as readfile:\n    with open('Example3.txt','w') as writefile:\n          for line in readfile:\n                writefile.write(line)"
        }, 
        {
            "source": "We can read the file to see if everything works:", 
            "cell_type": "markdown", 
            "metadata": {}
        }, 
        {
            "execution_count": 14, 
            "cell_type": "code", 
            "metadata": {
                "jupyter": {
                    "outputs_hidden": false
                }
            }, 
            "outputs": [
                {
                    "output_type": "stream", 
                    "name": "stdout", 
                    "text": "This is line A\nThis is line B\nThis is line C\nThis is line D\n\n"
                }
            ], 
            "source": "# Verify if the copy is successfully executed\n\nwith open('Example3.txt','r') as testwritefile:\n    print(testwritefile.read())"
        }, 
        {
            "source": " After reading files, we can also write data into files and save them in different file formats like **.txt, .csv, .xls (for excel files) etc**. Let's take a look at some examples.", 
            "cell_type": "markdown", 
            "metadata": {}
        }, 
        {
            "source": "Now go to the directory to ensure the <b>.txt</b> file exists and contains the summary data that we wrote.", 
            "cell_type": "markdown", 
            "metadata": {}
        }, 
        {
            "source": "<hr>\n<h2>The last exercise!</h2>\n<p>Congratulations, you have completed your first lesson and hands-on lab in Python. However, there is one more thing you need to do. The Data Science community encourages sharing work. The best way to share and showcase your work is to share it on GitHub. By sharing your notebook on GitHub you are not only building your reputation with fellow data scientists, but you can also show it off when applying for a job. Even though this was your first piece of work, it is never too early to start building good habits. So, please read and follow <a href=\"https://cognitiveclass.ai/blog/data-scientists-stand-out-by-sharing-your-notebooks/\" target=\"_blank\">this article</a> to learn how to share your work.\n<hr>", 
            "cell_type": "markdown", 
            "metadata": {}
        }, 
        {
            "source": "<div class=\"alert alert-block alert-info\" style=\"margin-top: 20px\">\n<h2>Get IBM Watson Studio free of charge!</h2>\n    <p><a href=\"https://cocl.us/PY0101EN_edx_add_bbottom\"><img src=\"https://s3-api.us-geo.objectstorage.softlayer.net/cf-courses-data/CognitiveClass/PY0101EN/Ad/BottomAd.png\" width=\"750\" align=\"center\"></a></p>\n</div>", 
            "cell_type": "markdown", 
            "metadata": {}
        }, 
        {
            "source": "<h3>About the Authors:</h3>  \n<p><a href=\"https://www.linkedin.com/in/joseph-s-50398b136/\" target=\"_blank\">Joseph Santarcangelo</a> is a Data Scientist at IBM, and holds a PhD in Electrical Engineering. His research focused on using Machine Learning, Signal Processing, and Computer Vision to determine how videos impact human cognition. Joseph has been working for IBM since he completed his PhD.</p>", 
            "cell_type": "markdown", 
            "metadata": {}
        }, 
        {
            "source": "Other contributors: <a href=\"www.linkedin.com/in/jiahui-mavis-zhou-a4537814a\">Mavis Zhou</a>", 
            "cell_type": "markdown", 
            "metadata": {}
        }, 
        {
            "source": "<hr>", 
            "cell_type": "markdown", 
            "metadata": {}
        }, 
        {
            "source": "<p>Copyright &copy; 2018 IBM Developer Skills Network. This notebook and its source code are released under the terms of the <a href=\"https://cognitiveclass.ai/mit-license/\">MIT License</a>.</p>", 
            "cell_type": "markdown", 
            "metadata": {}
        }
    ], 
    "metadata": {
        "kernelspec": {
            "display_name": "Python 3.6", 
            "name": "python3", 
            "language": "python"
        }, 
        "language_info": {
            "mimetype": "text/x-python", 
            "nbconvert_exporter": "python", 
            "version": "3.6.8", 
            "name": "python", 
            "file_extension": ".py", 
            "pygments_lexer": "ipython3", 
            "codemirror_mode": {
                "version": 3, 
                "name": "ipython"
            }
        }
    }, 
    "nbformat": 4
}